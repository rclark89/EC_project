{
 "cells": [
  {
   "cell_type": "code",
   "execution_count": 1,
   "id": "36665f4e-3d38-4a96-9044-66e3fe780529",
   "metadata": {},
   "outputs": [],
   "source": [
    "# Import relevant libraries.\n",
    "import pandas as pd\n",
    "import sys\n",
    "import numpy as np\n",
    "import matplotlib.pyplot as plt\n",
    "from datetime import datetime \n",
    "from dateutil.relativedelta import relativedelta\n",
    "from scipy import stats\n",
    "import seaborn as sns"
   ]
  },
  {
   "cell_type": "code",
   "execution_count": 2,
   "id": "4e10297d-1e29-4716-a880-be62f3c0a927",
   "metadata": {},
   "outputs": [
    {
     "data": {
      "text/html": [
       "<div>\n",
       "<style scoped>\n",
       "    .dataframe tbody tr th:only-of-type {\n",
       "        vertical-align: middle;\n",
       "    }\n",
       "\n",
       "    .dataframe tbody tr th {\n",
       "        vertical-align: top;\n",
       "    }\n",
       "\n",
       "    .dataframe thead th {\n",
       "        text-align: right;\n",
       "    }\n",
       "</style>\n",
       "<table border=\"1\" class=\"dataframe\">\n",
       "  <thead>\n",
       "    <tr style=\"text-align: right;\">\n",
       "      <th></th>\n",
       "      <th>Old Ref ID</th>\n",
       "      <th>Ref ID</th>\n",
       "      <th>Record Last Updated (dd/mm/yyyy)</th>\n",
       "      <th>Operator (or Applicant)</th>\n",
       "      <th>Site Name</th>\n",
       "      <th>Technology Type</th>\n",
       "      <th>Storage Type</th>\n",
       "      <th>Storage Co-location REPD Ref ID</th>\n",
       "      <th>Installed Capacity (MWelec)</th>\n",
       "      <th>CHP Enabled</th>\n",
       "      <th>...</th>\n",
       "      <th>Appeal Refused</th>\n",
       "      <th>Appeal Granted</th>\n",
       "      <th>Planning Permission Granted</th>\n",
       "      <th>Secretary of State - Intervened</th>\n",
       "      <th>Secretary of State - Refusal</th>\n",
       "      <th>Secretary of State - Granted</th>\n",
       "      <th>Planning Permission Expired</th>\n",
       "      <th>Under Construction</th>\n",
       "      <th>Operational</th>\n",
       "      <th>Heat Network Ref</th>\n",
       "    </tr>\n",
       "  </thead>\n",
       "  <tbody>\n",
       "    <tr>\n",
       "      <th>0</th>\n",
       "      <td>N00053B</td>\n",
       "      <td>1</td>\n",
       "      <td>07/07/2009</td>\n",
       "      <td>RWE npower</td>\n",
       "      <td>Aberthaw Power Station Biomass</td>\n",
       "      <td>Biomass (co-firing)</td>\n",
       "      <td>NaN</td>\n",
       "      <td>NaN</td>\n",
       "      <td>35.0</td>\n",
       "      <td>No</td>\n",
       "      <td>...</td>\n",
       "      <td>NaN</td>\n",
       "      <td>NaN</td>\n",
       "      <td>03/09/2004</td>\n",
       "      <td>NaN</td>\n",
       "      <td>NaN</td>\n",
       "      <td>NaN</td>\n",
       "      <td>NaN</td>\n",
       "      <td>01/05/2006</td>\n",
       "      <td>01/05/2007</td>\n",
       "      <td>NaN</td>\n",
       "    </tr>\n",
       "    <tr>\n",
       "      <th>1</th>\n",
       "      <td>AA110</td>\n",
       "      <td>2</td>\n",
       "      <td>20/11/2017</td>\n",
       "      <td>Orsted (formerly Dong Energy) / Peel Energy</td>\n",
       "      <td>Hunterston - cofiring</td>\n",
       "      <td>Biomass (co-firing)</td>\n",
       "      <td>NaN</td>\n",
       "      <td>NaN</td>\n",
       "      <td>170.0</td>\n",
       "      <td>No</td>\n",
       "      <td>...</td>\n",
       "      <td>NaN</td>\n",
       "      <td>NaN</td>\n",
       "      <td>NaN</td>\n",
       "      <td>NaN</td>\n",
       "      <td>NaN</td>\n",
       "      <td>NaN</td>\n",
       "      <td>NaN</td>\n",
       "      <td>NaN</td>\n",
       "      <td>NaN</td>\n",
       "      <td>NaN</td>\n",
       "    </tr>\n",
       "    <tr>\n",
       "      <th>2</th>\n",
       "      <td>B0730</td>\n",
       "      <td>3</td>\n",
       "      <td>04/06/2020</td>\n",
       "      <td>Scottish and Southern Energy (SSE)</td>\n",
       "      <td>Ferrybridge Multifuel 2 (FM2)</td>\n",
       "      <td>EfW Incineration</td>\n",
       "      <td>NaN</td>\n",
       "      <td>NaN</td>\n",
       "      <td>70.0</td>\n",
       "      <td>No</td>\n",
       "      <td>...</td>\n",
       "      <td>NaN</td>\n",
       "      <td>NaN</td>\n",
       "      <td>28/10/2015</td>\n",
       "      <td>NaN</td>\n",
       "      <td>NaN</td>\n",
       "      <td>NaN</td>\n",
       "      <td>28/10/2020</td>\n",
       "      <td>01/09/2016</td>\n",
       "      <td>20/12/2019</td>\n",
       "      <td>NaN</td>\n",
       "    </tr>\n",
       "    <tr>\n",
       "      <th>3</th>\n",
       "      <td>1106000</td>\n",
       "      <td>4</td>\n",
       "      <td>18/12/2003</td>\n",
       "      <td>Energy Power Resources</td>\n",
       "      <td>Thetford Biomass Power Station</td>\n",
       "      <td>Biomass (dedicated)</td>\n",
       "      <td>NaN</td>\n",
       "      <td>NaN</td>\n",
       "      <td>38.5</td>\n",
       "      <td>No</td>\n",
       "      <td>...</td>\n",
       "      <td>NaN</td>\n",
       "      <td>NaN</td>\n",
       "      <td>05/05/1995</td>\n",
       "      <td>NaN</td>\n",
       "      <td>NaN</td>\n",
       "      <td>NaN</td>\n",
       "      <td>NaN</td>\n",
       "      <td>NaN</td>\n",
       "      <td>02/10/1998</td>\n",
       "      <td>NaN</td>\n",
       "    </tr>\n",
       "    <tr>\n",
       "      <th>4</th>\n",
       "      <td>2047000</td>\n",
       "      <td>5</td>\n",
       "      <td>29/09/2005</td>\n",
       "      <td>Agrigen</td>\n",
       "      <td>Nunn Mills Road Biomass Plant</td>\n",
       "      <td>Biomass (dedicated)</td>\n",
       "      <td>NaN</td>\n",
       "      <td>NaN</td>\n",
       "      <td>8.8</td>\n",
       "      <td>No</td>\n",
       "      <td>...</td>\n",
       "      <td>NaN</td>\n",
       "      <td>NaN</td>\n",
       "      <td>NaN</td>\n",
       "      <td>NaN</td>\n",
       "      <td>NaN</td>\n",
       "      <td>NaN</td>\n",
       "      <td>NaN</td>\n",
       "      <td>NaN</td>\n",
       "      <td>NaN</td>\n",
       "      <td>NaN</td>\n",
       "    </tr>\n",
       "  </tbody>\n",
       "</table>\n",
       "<p>5 rows × 51 columns</p>\n",
       "</div>"
      ],
      "text/plain": [
       "  Old Ref ID  Ref ID Record Last Updated (dd/mm/yyyy)  \\\n",
       "0    N00053B       1                       07/07/2009   \n",
       "1      AA110       2                       20/11/2017   \n",
       "2      B0730       3                       04/06/2020   \n",
       "3    1106000       4                       18/12/2003   \n",
       "4    2047000       5                       29/09/2005   \n",
       "\n",
       "                       Operator (or Applicant)  \\\n",
       "0                                   RWE npower   \n",
       "1  Orsted (formerly Dong Energy) / Peel Energy   \n",
       "2           Scottish and Southern Energy (SSE)   \n",
       "3                       Energy Power Resources   \n",
       "4                                      Agrigen   \n",
       "\n",
       "                        Site Name      Technology Type Storage Type  \\\n",
       "0  Aberthaw Power Station Biomass  Biomass (co-firing)          NaN   \n",
       "1           Hunterston - cofiring  Biomass (co-firing)          NaN   \n",
       "2   Ferrybridge Multifuel 2 (FM2)     EfW Incineration          NaN   \n",
       "3  Thetford Biomass Power Station  Biomass (dedicated)          NaN   \n",
       "4   Nunn Mills Road Biomass Plant  Biomass (dedicated)          NaN   \n",
       "\n",
       "  Storage Co-location REPD Ref ID  Installed Capacity (MWelec) CHP Enabled  \\\n",
       "0                             NaN                         35.0          No   \n",
       "1                             NaN                        170.0          No   \n",
       "2                             NaN                         70.0          No   \n",
       "3                             NaN                         38.5          No   \n",
       "4                             NaN                          8.8          No   \n",
       "\n",
       "   ...  Appeal Refused Appeal Granted  Planning Permission Granted  \\\n",
       "0  ...             NaN            NaN                   03/09/2004   \n",
       "1  ...             NaN            NaN                          NaN   \n",
       "2  ...             NaN            NaN                   28/10/2015   \n",
       "3  ...             NaN            NaN                   05/05/1995   \n",
       "4  ...             NaN            NaN                          NaN   \n",
       "\n",
       "  Secretary of State - Intervened  Secretary of State - Refusal  \\\n",
       "0                             NaN                           NaN   \n",
       "1                             NaN                           NaN   \n",
       "2                             NaN                           NaN   \n",
       "3                             NaN                           NaN   \n",
       "4                             NaN                           NaN   \n",
       "\n",
       "   Secretary of State - Granted  Planning Permission Expired  \\\n",
       "0                           NaN                          NaN   \n",
       "1                           NaN                          NaN   \n",
       "2                           NaN                   28/10/2020   \n",
       "3                           NaN                          NaN   \n",
       "4                           NaN                          NaN   \n",
       "\n",
       "  Under Construction Operational Heat Network Ref  \n",
       "0         01/05/2006  01/05/2007              NaN  \n",
       "1                NaN         NaN              NaN  \n",
       "2         01/09/2016  20/12/2019              NaN  \n",
       "3                NaN  02/10/1998              NaN  \n",
       "4                NaN         NaN              NaN  \n",
       "\n",
       "[5 rows x 51 columns]"
      ]
     },
     "execution_count": 2,
     "metadata": {},
     "output_type": "execute_result"
    }
   ],
   "source": [
    "df = pd.read_csv(r\"C:\\Users\\Ross\\Documents\\code\\notebooks\\assessment2\\repd-january-2023.csv\")\n",
    "df.head()"
   ]
  },
  {
   "cell_type": "code",
   "execution_count": 3,
   "id": "9ab1a661-1542-4487-bff9-fca3ee6179b1",
   "metadata": {},
   "outputs": [],
   "source": [
    "#Drop private developers as agreed.\n",
    "\n",
    "private_dev = df[(df['Operator (or Applicant)'] == 'Private Developer')].index\n",
    "df.drop(private_dev, inplace=True)"
   ]
  },
  {
   "cell_type": "code",
   "execution_count": 4,
   "id": "42e2107d-e16e-40aa-9c39-0f9c69ec6176",
   "metadata": {},
   "outputs": [],
   "source": [
    "# Calculate time to approve\n",
    "\n",
    "# Dates are stored as objects (strings), so these should be converted to dates.\n",
    "# Add column calculating difference in days between date of permission submitted\n",
    "# and granted.\n",
    "\n",
    "df['Planning Application Submitted']= pd.to_datetime(df['Planning Application Submitted'], dayfirst=True)\n",
    "df['Planning Permission Granted']= pd.to_datetime(df['Planning Permission Granted'], dayfirst=True)\n",
    "\n",
    "df['time_to_approve'] =  df['Planning Permission Granted'] - df['Planning Application Submitted']\n",
    "df['time_to_approve'] = df['time_to_approve'] / np.timedelta64(1,'D')"
   ]
  },
  {
   "cell_type": "code",
   "execution_count": 5,
   "id": "43b517f7-d2cc-47c1-b4aa-4a2b49c6446e",
   "metadata": {},
   "outputs": [],
   "source": [
    "# Calculate time taken for refusal\n",
    "df['Planning Permission Refused']= pd.to_datetime(df['Planning Permission Refused'], dayfirst=True)\n",
    "df['time_to_refuse'] =  df['Planning Permission Refused'] - df['Planning Application Submitted']\n",
    "df['time_to_refuse'] = df['time_to_refuse'] / np.timedelta64(1,'D')\n"
   ]
  },
  {
   "cell_type": "code",
   "execution_count": 6,
   "id": "be4c6c19-64ff-49ae-9dce-412b41559f7b",
   "metadata": {},
   "outputs": [
    {
     "data": {
      "image/png": "[encoded data removed]",
      "text/plain": [
       "<Figure size 432x288 with 1 Axes>"
      ]
     },
     "metadata": {
      "needs_background": "light"
     },
     "output_type": "display_data"
    }
   ],
   "source": [
    "# Some time_to_approve values are false - these contain erroneous dates and should be excluded.\n",
    "\n",
    "df_time = df[df.time_to_approve >= 0]\n",
    "\n",
    "df_time.describe()\n",
    "\n",
    "fig = df_time.hist(column='time_to_approve', bins=100)\n",
    "plt.xlabel('Time in days')\n",
    "plt.ylabel('Count')\n",
    "plt.title('Time taken to receive planning approval')\n",
    "plt.xlim(0, 4000)\n",
    "plt.show()"
   ]
  },
  {
   "cell_type": "code",
   "execution_count": 7,
   "id": "280c50ca-0819-4298-943c-4a2806fadd19",
   "metadata": {},
   "outputs": [
    {
     "data": {
      "image/png": "[encoded data removed]",
      "text/plain": [
       "<Figure size 432x288 with 1 Axes>"
      ]
     },
     "metadata": {
      "needs_background": "light"
     },
     "output_type": "display_data"
    }
   ],
   "source": [
    "\n",
    "df_time.describe()\n",
    "\n",
    "fig = df_time.hist(column='time_to_refuse', bins=100)\n",
    "plt.xlabel('Time in days')\n",
    "plt.ylabel('Count')\n",
    "plt.title('Time taken to receive planning refusal')\n",
    "plt.xlim(0, 4000)\n",
    "plt.show()"
   ]
  },
  {
   "cell_type": "code",
   "execution_count": 8,
   "id": "c7c7eebf-d67f-4d53-a767-a62f8fe43a6c",
   "metadata": {},
   "outputs": [
    {
     "data": {
      "text/plain": [
       "<AxesSubplot:xlabel='time_to_approve', ylabel='Count'>"
      ]
     },
     "execution_count": 8,
     "metadata": {},
     "output_type": "execute_result"
    },
    {
     "data": {
      "image/png": "[encoded data removed]",
      "text/plain": [
       "<Figure size 432x288 with 1 Axes>"
      ]
     },
     "metadata": {
      "needs_background": "light"
     },
     "output_type": "display_data"
    }
   ],
   "source": [
    "# Seaborn histplot\n",
    "sns.histplot(data=df_time, x='time_to_approve')\n"
   ]
  },
  {
   "cell_type": "code",
   "execution_count": 9,
   "id": "610ad1ae-011a-47de-87af-66c12ed7f275",
   "metadata": {},
   "outputs": [
    {
     "data": {
      "text/plain": [
       "<AxesSubplot:xlabel='time_to_refuse', ylabel='Count'>"
      ]
     },
     "execution_count": 9,
     "metadata": {},
     "output_type": "execute_result"
    },
    {
     "data": {
      "image/png": "[encoded data removed]",
      "text/plain": [
       "<Figure size 432x288 with 1 Axes>"
      ]
     },
     "metadata": {
      "needs_background": "light"
     },
     "output_type": "display_data"
    }
   ],
   "source": [
    "sns.histplot(data=df_time, x='time_to_refuse')"
   ]
  },
  {
   "cell_type": "code",
   "execution_count": 10,
   "id": "6eab5943-96b8-4ce1-942c-9b0aee5d569e",
   "metadata": {},
   "outputs": [
    {
     "data": {
      "text/html": [
       "<div>\n",
       "<style scoped>\n",
       "    .dataframe tbody tr th:only-of-type {\n",
       "        vertical-align: middle;\n",
       "    }\n",
       "\n",
       "    .dataframe tbody tr th {\n",
       "        vertical-align: top;\n",
       "    }\n",
       "\n",
       "    .dataframe thead th {\n",
       "        text-align: right;\n",
       "    }\n",
       "</style>\n",
       "<table border=\"1\" class=\"dataframe\">\n",
       "  <thead>\n",
       "    <tr style=\"text-align: right;\">\n",
       "      <th></th>\n",
       "      <th>Ref ID</th>\n",
       "      <th>Installed Capacity (MWelec)</th>\n",
       "      <th>RO Banding (ROC/MWh)</th>\n",
       "      <th>CfD Capacity (MW)</th>\n",
       "      <th>Turbine Capacity (MW)</th>\n",
       "      <th>No. of Turbines</th>\n",
       "      <th>Height of Turbines (m)</th>\n",
       "      <th>Y-coordinate</th>\n",
       "      <th>Heat Network Ref</th>\n",
       "      <th>time_to_approve</th>\n",
       "      <th>time_to_refuse</th>\n",
       "    </tr>\n",
       "  </thead>\n",
       "  <tbody>\n",
       "    <tr>\n",
       "      <th>count</th>\n",
       "      <td>5205.000000</td>\n",
       "      <td>4918.000000</td>\n",
       "      <td>188.000000</td>\n",
       "      <td>133.000000</td>\n",
       "      <td>1092.000000</td>\n",
       "      <td>1101.000000</td>\n",
       "      <td>326.000000</td>\n",
       "      <td>5.197000e+03</td>\n",
       "      <td>4.000000</td>\n",
       "      <td>5205.000000</td>\n",
       "      <td>341.000000</td>\n",
       "    </tr>\n",
       "    <tr>\n",
       "      <th>mean</th>\n",
       "      <td>5483.945629</td>\n",
       "      <td>21.216470</td>\n",
       "      <td>1.378191</td>\n",
       "      <td>190.553083</td>\n",
       "      <td>2.412244</td>\n",
       "      <td>12.037239</td>\n",
       "      <td>125.682147</td>\n",
       "      <td>3.727359e+05</td>\n",
       "      <td>9288.000000</td>\n",
       "      <td>284.124688</td>\n",
       "      <td>427.029326</td>\n",
       "    </tr>\n",
       "    <tr>\n",
       "      <th>std</th>\n",
       "      <td>3618.858457</td>\n",
       "      <td>94.845759</td>\n",
       "      <td>0.275764</td>\n",
       "      <td>431.527107</td>\n",
       "      <td>1.594233</td>\n",
       "      <td>23.968227</td>\n",
       "      <td>45.646196</td>\n",
       "      <td>2.271312e+05</td>\n",
       "      <td>1.632993</td>\n",
       "      <td>379.940136</td>\n",
       "      <td>649.507505</td>\n",
       "    </tr>\n",
       "    <tr>\n",
       "      <th>min</th>\n",
       "      <td>1.000000</td>\n",
       "      <td>0.150000</td>\n",
       "      <td>0.000000</td>\n",
       "      <td>0.640000</td>\n",
       "      <td>0.050000</td>\n",
       "      <td>1.000000</td>\n",
       "      <td>30.000000</td>\n",
       "      <td>2.122600e+04</td>\n",
       "      <td>9286.000000</td>\n",
       "      <td>0.000000</td>\n",
       "      <td>-14.000000</td>\n",
       "    </tr>\n",
       "    <tr>\n",
       "      <th>25%</th>\n",
       "      <td>2184.000000</td>\n",
       "      <td>1.600000</td>\n",
       "      <td>1.400000</td>\n",
       "      <td>20.000000</td>\n",
       "      <td>1.600000</td>\n",
       "      <td>2.000000</td>\n",
       "      <td>100.000000</td>\n",
       "      <td>1.897300e+05</td>\n",
       "      <td>9287.500000</td>\n",
       "      <td>77.000000</td>\n",
       "      <td>144.000000</td>\n",
       "    </tr>\n",
       "    <tr>\n",
       "      <th>50%</th>\n",
       "      <td>5227.000000</td>\n",
       "      <td>5.000000</td>\n",
       "      <td>1.400000</td>\n",
       "      <td>42.000000</td>\n",
       "      <td>2.300000</td>\n",
       "      <td>6.000000</td>\n",
       "      <td>125.000000</td>\n",
       "      <td>3.204640e+05</td>\n",
       "      <td>9288.000000</td>\n",
       "      <td>137.000000</td>\n",
       "      <td>250.000000</td>\n",
       "    </tr>\n",
       "    <tr>\n",
       "      <th>75%</th>\n",
       "      <td>8045.000000</td>\n",
       "      <td>16.000000</td>\n",
       "      <td>1.400000</td>\n",
       "      <td>81.600000</td>\n",
       "      <td>3.000000</td>\n",
       "      <td>12.000000</td>\n",
       "      <td>149.900000</td>\n",
       "      <td>5.309770e+05</td>\n",
       "      <td>9288.500000</td>\n",
       "      <td>329.000000</td>\n",
       "      <td>488.000000</td>\n",
       "    </tr>\n",
       "    <tr>\n",
       "      <th>max</th>\n",
       "      <td>12899.000000</td>\n",
       "      <td>2400.000000</td>\n",
       "      <td>2.000000</td>\n",
       "      <td>2852.000000</td>\n",
       "      <td>15.000000</td>\n",
       "      <td>400.000000</td>\n",
       "      <td>350.000000</td>\n",
       "      <td>1.198506e+06</td>\n",
       "      <td>9290.000000</td>\n",
       "      <td>4097.000000</td>\n",
       "      <td>8504.000000</td>\n",
       "    </tr>\n",
       "  </tbody>\n",
       "</table>\n",
       "</div>"
      ],
      "text/plain": [
       "             Ref ID  Installed Capacity (MWelec)  RO Banding (ROC/MWh)  \\\n",
       "count   5205.000000                  4918.000000            188.000000   \n",
       "mean    5483.945629                    21.216470              1.378191   \n",
       "std     3618.858457                    94.845759              0.275764   \n",
       "min        1.000000                     0.150000              0.000000   \n",
       "25%     2184.000000                     1.600000              1.400000   \n",
       "50%     5227.000000                     5.000000              1.400000   \n",
       "75%     8045.000000                    16.000000              1.400000   \n",
       "max    12899.000000                  2400.000000              2.000000   \n",
       "\n",
       "       CfD Capacity (MW)  Turbine Capacity (MW)  No. of Turbines  \\\n",
       "count         133.000000            1092.000000      1101.000000   \n",
       "mean          190.553083               2.412244        12.037239   \n",
       "std           431.527107               1.594233        23.968227   \n",
       "min             0.640000               0.050000         1.000000   \n",
       "25%            20.000000               1.600000         2.000000   \n",
       "50%            42.000000               2.300000         6.000000   \n",
       "75%            81.600000               3.000000        12.000000   \n",
       "max          2852.000000              15.000000       400.000000   \n",
       "\n",
       "       Height of Turbines (m)  Y-coordinate  Heat Network Ref  \\\n",
       "count              326.000000  5.197000e+03          4.000000   \n",
       "mean               125.682147  3.727359e+05       9288.000000   \n",
       "std                 45.646196  2.271312e+05          1.632993   \n",
       "min                 30.000000  2.122600e+04       9286.000000   \n",
       "25%                100.000000  1.897300e+05       9287.500000   \n",
       "50%                125.000000  3.204640e+05       9288.000000   \n",
       "75%                149.900000  5.309770e+05       9288.500000   \n",
       "max                350.000000  1.198506e+06       9290.000000   \n",
       "\n",
       "       time_to_approve  time_to_refuse  \n",
       "count      5205.000000      341.000000  \n",
       "mean        284.124688      427.029326  \n",
       "std         379.940136      649.507505  \n",
       "min           0.000000      -14.000000  \n",
       "25%          77.000000      144.000000  \n",
       "50%         137.000000      250.000000  \n",
       "75%         329.000000      488.000000  \n",
       "max        4097.000000     8504.000000  "
      ]
     },
     "execution_count": 10,
     "metadata": {},
     "output_type": "execute_result"
    }
   ],
   "source": [
    "# Summary stats for df_time\n",
    "df_time.describe()\n"
   ]
  },
  {
   "cell_type": "code",
   "execution_count": 11,
   "id": "f429a061-d336-4145-a530-999d6eca2a7b",
   "metadata": {},
   "outputs": [],
   "source": [
    "# Mean is not a good measure of central tendency for non-parametric data\n",
    "mode = stats.mode(df_time['time_to_approve'])\n",
    "median_approve = np.nanmedian(df_time['time_to_approve'])\n"
   ]
  },
  {
   "cell_type": "code",
   "execution_count": 12,
   "id": "e70f4ff0-32d7-4a64-8dc2-5f08e9584e65",
   "metadata": {},
   "outputs": [
    {
     "data": {
      "text/plain": [
       "137.0"
      ]
     },
     "execution_count": 12,
     "metadata": {},
     "output_type": "execute_result"
    }
   ],
   "source": [
    "median_approve"
   ]
  },
  {
   "cell_type": "code",
   "execution_count": 13,
   "id": "371d6ec3-f5ee-4d2b-bd9e-898b8fb2e548",
   "metadata": {},
   "outputs": [
    {
     "data": {
      "text/plain": [
       "250.0"
      ]
     },
     "execution_count": 13,
     "metadata": {},
     "output_type": "execute_result"
    }
   ],
   "source": [
    "\n",
    "median_refuse = np.nanmedian(df_time['time_to_refuse'])\n",
    "median_refuse"
   ]
  },
  {
   "cell_type": "code",
   "execution_count": 14,
   "id": "7a92d346-889d-4e3e-ab37-9f1baceceda6",
   "metadata": {},
   "outputs": [
    {
     "data": {
      "image/png": "[encoded data removed]",
      "text/plain": [
       "<Figure size 432x288 with 1 Axes>"
      ]
     },
     "metadata": {
      "needs_background": "light"
     },
     "output_type": "display_data"
    }
   ],
   "source": [
    "# Create df for only Planning Permission Refused.\n",
    "\n",
    "df_plan_ref = df[df['Planning Permission Refused'].notnull()]\n",
    "df_plan_ref\n",
    "\n",
    "fig = pd.value_counts(df_plan_ref['Technology Type']).plot.barh()\n",
    "plt.xlabel('Count')\n",
    "plt.title('Total number of applications refused')\n",
    "plt.show()"
   ]
  },
  {
   "cell_type": "code",
   "execution_count": null,
   "id": "893847cc-19c3-4711-a540-7e00b9aa4cdb",
   "metadata": {},
   "outputs": [],
   "source": []
  },
  {
   "cell_type": "code",
   "execution_count": 15,
   "id": "655ab6f9-d2db-4348-91be-f19ce67d9c5a",
   "metadata": {},
   "outputs": [
    {
     "data": {
      "text/plain": [
       "Advanced Conversion Technologies    0.139535\n",
       "Anaerobic Digestion                 0.123779\n",
       "Battery                             0.062757\n",
       "Biomass (dedicated)                 0.124464\n",
       "EfW Incineration                    0.231156\n",
       "Fuel Cell (Hydrogen)                1.000000\n",
       "Landfill Gas                        0.006849\n",
       "Large Hydro                         0.033333\n",
       "Small Hydro                         0.059259\n",
       "Solar Photovoltaics                 0.127083\n",
       "Wind Offshore                       0.060976\n",
       "Wind Onshore                        0.398144\n",
       "Name: Technology Type, dtype: float64"
      ]
     },
     "execution_count": 15,
     "metadata": {},
     "output_type": "execute_result"
    }
   ],
   "source": [
    "# Planning permission normalised against total number of applications.\n",
    "\n",
    "count_refusals = pd.value_counts(df_plan_ref['Technology Type'])\n",
    "count_refusals\n",
    "count_total = pd.value_counts(df['Technology Type'])\n",
    "count_total\n",
    "\n",
    "normalised = count_refusals/count_total\n",
    "normalised.dropna(inplace=True)\n",
    "normalised"
   ]
  },
  {
   "cell_type": "code",
   "execution_count": 22,
   "id": "a0558052-d760-4a7c-9bcf-32f2c6db0911",
   "metadata": {},
   "outputs": [
    {
     "data": {
      "image/png": "[encoded data removed]",
      "text/plain": [
       "<Figure size 432x288 with 1 Axes>"
      ]
     },
     "metadata": {
      "needs_background": "light"
     },
     "output_type": "display_data"
    }
   ],
   "source": [
    "snormalised = normalised.sort_values(ascending=False)\n",
    "\n",
    "fig = snormalised.plot.barh()\n",
    "plt.xlabel('Ratio of applications to total count')\n",
    "plt.title('Planning appeals refused - normalised')\n",
    "plt.show()"
   ]
  },
  {
   "cell_type": "code",
   "execution_count": 17,
   "id": "3d4c8224-52cf-4522-9da3-835622597960",
   "metadata": {},
   "outputs": [
    {
     "data": {
      "text/plain": [
       "<AxesSubplot:title={'center':'Sec of State Refusal'}>"
      ]
     },
     "execution_count": 17,
     "metadata": {},
     "output_type": "execute_result"
    },
    {
     "data": {
      "image/png": "[encoded data removed]",
      "text/plain": [
       "<Figure size 432x288 with 1 Axes>"
      ]
     },
     "metadata": {
      "needs_background": "light"
     },
     "output_type": "display_data"
    }
   ],
   "source": [
    "# Create df for only Sec of State refusals.\n",
    "\n",
    "df_sec_ref = df[df['Secretary of State - Refusal'].notnull()]\n",
    "df_sec_ref\n",
    "\n",
    "pd.value_counts(df_sec_ref['Technology Type']).plot.barh(title='Sec of State Refusal')\n"
   ]
  },
  {
   "cell_type": "code",
   "execution_count": 18,
   "id": "5bc671e3-9a75-41d2-a95a-3e249befe68c",
   "metadata": {},
   "outputs": [
    {
     "name": "stdout",
     "output_type": "stream",
     "text": [
      "Northern Ireland Planning Service                      174\n",
      "Scottish Government (S36)                              167\n",
      "Cornwall Council                                       143\n",
      "Highland Council                                       120\n",
      "Aberdeenshire Council                                  104\n",
      "Wiltshire Council                                       79\n",
      "DECC (S36)                                              62\n",
      "East Riding of Yorkshire Council                        57\n",
      "Fife Council                                            54\n",
      "Dumfries and Galloway Council                           49\n",
      "Durham County Council                                   49\n",
      "Perth and Kinross Council                               44\n",
      "South Lanarkshire Council                               42\n",
      "Shropshire Council                                      40\n",
      "The Planning Inspectorate - National Infrastructure     38\n",
      "Name: Planning Authority, dtype: int64\n"
     ]
    }
   ],
   "source": [
    "# Top 15 local authorities for granting planning permission.\n",
    "\n",
    "grant_counties = df_time[df_time['Planning Permission Granted'].notna()]\n",
    "\n",
    "counties = pd.value_counts(grant_counties['Planning Authority'])\n",
    "\n",
    "print(counties.head(n=15))"
   ]
  },
  {
   "cell_type": "code",
   "execution_count": 19,
   "id": "bb553bde-42fa-4c7b-9893-6638a29b901c",
   "metadata": {},
   "outputs": [
    {
     "data": {
      "text/plain": [
       "Advanced Conversion Technologies    0.139535\n",
       "Anaerobic Digestion                 0.123779\n",
       "Battery                             0.062757\n",
       "Biomass (dedicated)                 0.124464\n",
       "EfW Incineration                    0.231156\n",
       "Fuel Cell (Hydrogen)                1.000000\n",
       "Landfill Gas                        0.006849\n",
       "Large Hydro                         0.033333\n",
       "Small Hydro                         0.059259\n",
       "Solar Photovoltaics                 0.127083\n",
       "Wind Offshore                       0.060976\n",
       "Wind Onshore                        0.398144\n",
       "Name: Technology Type, dtype: float64"
      ]
     },
     "execution_count": 19,
     "metadata": {},
     "output_type": "execute_result"
    }
   ],
   "source": [
    "normalised"
   ]
  },
  {
   "cell_type": "code",
   "execution_count": null,
   "id": "5f2d96bb-4460-4600-8344-a2aa982206ab",
   "metadata": {},
   "outputs": [],
   "source": []
  },
  {
   "cell_type": "code",
   "execution_count": null,
   "id": "8cf62b5d-63e4-4832-9949-71f56e8bd17a",
   "metadata": {},
   "outputs": [],
   "source": []
  }
 ],
 "metadata": {
  "kernelspec": {
   "display_name": "Python 3",
   "language": "python",
   "name": "python3"
  },
  "language_info": {
   "codemirror_mode": {
    "name": "ipython",
    "version": 3
   },
   "file_extension": ".py",
   "mimetype": "text/x-python",
   "name": "python",
   "nbconvert_exporter": "python",
   "pygments_lexer": "ipython3",
   "version": "3.8.8"
  }
 },
 "nbformat": 4,
 "nbformat_minor": 5
}
